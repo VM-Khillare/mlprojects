{
 "cells": [
  {
   "cell_type": "code",
   "execution_count": 6,
   "id": "f281a8c2",
   "metadata": {},
   "outputs": [],
   "source": [
    "import sys\n",
    "import os\n",
    "import pandas as pd\n",
    "from src.exception import CustomException\n",
    "from src.utils import load_object\n",
    "\n",
    "\n",
    "\n",
    "class PredictPipeline:\n",
    "    def __init__(self):\n",
    "        pass\n",
    "\n",
    "    def predict(self,features):\n",
    "        try:\n",
    "            model_path='artifacts\\model.pkl'\n",
    "            preprocessor_path='artifacts\\preprocessor.pkl'\n",
    "            model=load_object(file_path=model_path)\n",
    "            preprocessor=load_object(file_path=preprocessor_path)\n",
    "            data_scaled=preprocessor.transform(features)\n",
    "            preds=model.predict(data_scaled)\n",
    "            return preds\n",
    "        \n",
    "        except Exception as e:\n",
    "              raise CustomException(e,sys)\n",
    "    \n",
    "\n",
    "\n",
    "class CustomData:\n",
    "    def __init__(self, \n",
    "                 gender:str,\n",
    "                 race_ethnicity:str,\n",
    "                 parental_level_of_education:str,\n",
    "                 lunch:str,\n",
    "                 test_preparation_course:str,\n",
    "                 reading_score: int,\n",
    "                 writing_score: int):\n",
    "                \n",
    "                self.gender = gender\n",
    "\n",
    "                self.race_ethnicity = race_ethnicity\n",
    "\n",
    "                self.parental_level_of_education = parental_level_of_education\n",
    "\n",
    "                self.lunch = lunch\n",
    "\n",
    "                self.test_preparation_course = test_preparation_course\n",
    "\n",
    "                self.reading_score = reading_score\n",
    "\n",
    "                self.writing_score = writing_score\n",
    "\n",
    "\n",
    "    def get_data_as_data_frame(self):\n",
    "          try:\n",
    "                custom_data_input_dict = {\n",
    "                      \"gender\":[self.gender],\n",
    "                      \"race_ethnicity\":[self.race_ethnicity],\n",
    "                      \"parental_level_of_education\":[self.parental_level_of_education],\n",
    "                      \"lunch\":[self.lunch],\n",
    "                      \"test_preparation_course\":[self.test_preparation_course],\n",
    "                      \"writing_score\":[self.writing_score],\n",
    "                      \"reading_score\":[self.reading_score],\n",
    "                      \n",
    "                }\n",
    "\n",
    "                return pd.DataFrame(custom_data_input_dict)\n",
    "          \n",
    "          except Exception as e:\n",
    "                raise CustomException(e,sys)"
   ]
  },
  {
   "cell_type": "code",
   "execution_count": 16,
   "id": "712c6a15",
   "metadata": {},
   "outputs": [
    {
     "name": "stdout",
     "output_type": "stream",
     "text": [
      "   gender race_ethnicity parental_level_of_education     lunch  \\\n",
      "0  female        group B           bachelor's degree  standard   \n",
      "\n",
      "  test_preparation_course  writing_score  reading_score  \n",
      "0                    none             96             55  \n"
     ]
    }
   ],
   "source": [
    "# Create an instance of CustomData with sample data\n",
    "custom_data = CustomData(\n",
    "    gender=\"female\",\n",
    "    race_ethnicity=\"group B\",\n",
    "    parental_level_of_education=\"bachelor's degree\",\n",
    "    lunch=\"standard\",\n",
    "    test_preparation_course=\"none\",\n",
    "    reading_score=55,\n",
    "    writing_score=96\n",
    ")\n",
    "\n",
    "# Get data as DataFrame\n",
    "data_df = custom_data.get_data_as_data_frame()\n",
    "\n",
    "# Display the DataFrame\n",
    "print(data_df)"
   ]
  },
  {
   "cell_type": "code",
   "execution_count": 17,
   "id": "c30ac8ee",
   "metadata": {},
   "outputs": [
    {
     "name": "stdout",
     "output_type": "stream",
     "text": [
      "   gender race_ethnicity parental_level_of_education     lunch  \\\n",
      "0  female        group B           bachelor's degree  standard   \n",
      "\n",
      "  test_preparation_course  writing_score  reading_score  \n",
      "0                    none             96             55  \n"
     ]
    },
    {
     "name": "stderr",
     "output_type": "stream",
     "text": [
      "C:\\Users\\hp\\anaconda3\\Lib\\site-packages\\sklearn\\base.py:318: UserWarning: Trying to unpickle estimator LinearRegression from version 1.3.2 when using version 1.2.2. This might lead to breaking code or invalid results. Use at your own risk. For more info please refer to:\n",
      "https://scikit-learn.org/stable/model_persistence.html#security-maintainability-limitations\n",
      "  warnings.warn(\n",
      "C:\\Users\\hp\\anaconda3\\Lib\\site-packages\\sklearn\\base.py:318: UserWarning: Trying to unpickle estimator SimpleImputer from version 1.3.2 when using version 1.2.2. This might lead to breaking code or invalid results. Use at your own risk. For more info please refer to:\n",
      "https://scikit-learn.org/stable/model_persistence.html#security-maintainability-limitations\n",
      "  warnings.warn(\n",
      "C:\\Users\\hp\\anaconda3\\Lib\\site-packages\\sklearn\\base.py:318: UserWarning: Trying to unpickle estimator StandardScaler from version 1.3.2 when using version 1.2.2. This might lead to breaking code or invalid results. Use at your own risk. For more info please refer to:\n",
      "https://scikit-learn.org/stable/model_persistence.html#security-maintainability-limitations\n",
      "  warnings.warn(\n",
      "C:\\Users\\hp\\anaconda3\\Lib\\site-packages\\sklearn\\base.py:318: UserWarning: Trying to unpickle estimator Pipeline from version 1.3.2 when using version 1.2.2. This might lead to breaking code or invalid results. Use at your own risk. For more info please refer to:\n",
      "https://scikit-learn.org/stable/model_persistence.html#security-maintainability-limitations\n",
      "  warnings.warn(\n",
      "C:\\Users\\hp\\anaconda3\\Lib\\site-packages\\sklearn\\base.py:318: UserWarning: Trying to unpickle estimator OneHotEncoder from version 1.3.2 when using version 1.2.2. This might lead to breaking code or invalid results. Use at your own risk. For more info please refer to:\n",
      "https://scikit-learn.org/stable/model_persistence.html#security-maintainability-limitations\n",
      "  warnings.warn(\n",
      "C:\\Users\\hp\\anaconda3\\Lib\\site-packages\\sklearn\\base.py:318: UserWarning: Trying to unpickle estimator ColumnTransformer from version 1.3.2 when using version 1.2.2. This might lead to breaking code or invalid results. Use at your own risk. For more info please refer to:\n",
      "https://scikit-learn.org/stable/model_persistence.html#security-maintainability-limitations\n",
      "  warnings.warn(\n"
     ]
    }
   ],
   "source": [
    "pred_df=custom_data.get_data_as_data_frame()\n",
    "print(pred_df)\n",
    "\n",
    "predict_pipeline=PredictPipeline()\n",
    "results=predict_pipeline.predict(pred_df)\n",
    "         \n"
   ]
  },
  {
   "cell_type": "code",
   "execution_count": 18,
   "id": "1d3ae99c",
   "metadata": {},
   "outputs": [
    {
     "name": "stdout",
     "output_type": "stream",
     "text": [
      "[77.25]\n"
     ]
    }
   ],
   "source": [
    "print(results)"
   ]
  }
 ],
 "metadata": {
  "kernelspec": {
   "display_name": "Python 3 (ipykernel)",
   "language": "python",
   "name": "python3"
  },
  "language_info": {
   "codemirror_mode": {
    "name": "ipython",
    "version": 3
   },
   "file_extension": ".py",
   "mimetype": "text/x-python",
   "name": "python",
   "nbconvert_exporter": "python",
   "pygments_lexer": "ipython3",
   "version": "3.11.3"
  }
 },
 "nbformat": 4,
 "nbformat_minor": 5
}
